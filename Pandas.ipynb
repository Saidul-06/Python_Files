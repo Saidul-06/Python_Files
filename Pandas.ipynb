{
  "nbformat": 4,
  "nbformat_minor": 0,
  "metadata": {
    "colab": {
      "provenance": []
    },
    "kernelspec": {
      "name": "python3",
      "display_name": "Python 3"
    },
    "language_info": {
      "name": "python"
    }
  },
  "cells": [
    {
      "cell_type": "markdown",
      "source": [
        "![images.png](data:image/png;base64,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)\n",
        "\n",
        "# **Pandas FULL NOTE**\n",
        "\n",
        "Created By : Hossain Mohammad Jayed\n",
        "\n",
        "Department Of CSE\n",
        "\n",
        "Daffodil International University\n",
        "\n",
        "\n",
        "\n",
        "\n",
        "---\n",
        "---"
      ],
      "metadata": {
        "id": "Gajb5UBccr38"
      }
    },
    {
      "cell_type": "markdown",
      "source": [
        "# **What is Pandas?**\n",
        "Pandas is a Python library used for working with data sets.\n",
        "\n",
        "It has functions for analyzing, cleaning, exploring, and manipulating data.\n",
        "\n",
        "The name \"Pandas\" has a reference to both \"Panel Data\", and \"Python Data Analysis\" and was created by Wes McKinney in 2008.\n",
        "\n",
        "# **Why Use Pandas?**\n",
        "Pandas allows us to analyze big data and make conclusions based on statistical theories.\n",
        "\n",
        "Pandas can clean messy data sets, and make them readable and relevant.\n",
        "\n",
        "Relevant data is very important in data science.\n",
        "\n",
        "\n",
        " **Data Science:** is a branch of computer science where we study how to store, use and analyze data for deriving information from it.\n",
        "\n",
        "# **What Can Pandas Do?**\n",
        "Pandas gives you answers about the data. Like:\n",
        "\n",
        "Is there a correlation between two or more columns?\n",
        "What is average value?\n",
        "Max value?\n",
        "Min value?\n",
        "Pandas are also able to delete rows that are not relevant, or contains wrong values, like empty or NULL values. This is called cleaning the data.\n",
        "\n",
        "# **Where is the Pandas Codebase?**\n",
        "The source code for Pandas is located at this github repository https://github.com/pandas-dev/pandas\n",
        "\n",
        "github: enables many people to work on the same codebase."
      ],
      "metadata": {
        "id": "lSnm57UKdHfE"
      }
    },
    {
      "cell_type": "markdown",
      "source": [
        "# **Installation of Pandas**\n",
        "If you have Python and PIP already installed on a system, then installation of Pandas is very easy.\n",
        "\n",
        "# Install it using this command:\n",
        "\n"
      ],
      "metadata": {
        "id": "wZbYsP6xdl6Z"
      }
    },
    {
      "cell_type": "code",
      "execution_count": null,
      "metadata": {
        "id": "H6H_PR_QcFw5"
      },
      "outputs": [],
      "source": [
        "pip install pandas\n"
      ]
    },
    {
      "cell_type": "markdown",
      "source": [
        "If this command fails, then use a python distribution that already has Pandas installed like, Anaconda, Spyder etc."
      ],
      "metadata": {
        "id": "8YjlPG12drhi"
      }
    },
    {
      "cell_type": "markdown",
      "source": [
        "# **Import Pandas**\n",
        "Once Pandas is installed, import it in your applications by adding the import keyword:\n",
        "\n"
      ],
      "metadata": {
        "id": "SJhEiHVSdxfA"
      }
    },
    {
      "cell_type": "code",
      "source": [
        "import pandas"
      ],
      "metadata": {
        "id": "TDLxhFl3d0HJ"
      },
      "execution_count": null,
      "outputs": []
    },
    {
      "cell_type": "markdown",
      "source": [
        "# Example\n"
      ],
      "metadata": {
        "id": "ilmV_CPfd3VC"
      }
    },
    {
      "cell_type": "code",
      "source": [
        "import pandas\n",
        "\n",
        "mydataset = {\n",
        "  'cars': [\"BMW\", \"Volvo\", \"Ford\"],\n",
        "  'passings': [3, 7, 2]\n",
        "}\n",
        "\n",
        "myvar = pandas.DataFrame(mydataset)\n",
        "\n",
        "print(myvar)"
      ],
      "metadata": {
        "id": "13EF-C7Sd8yZ"
      },
      "execution_count": null,
      "outputs": []
    },
    {
      "cell_type": "markdown",
      "source": [
        "# **Pandas Series**"
      ],
      "metadata": {
        "id": "Yl1OFTFJd-Kw"
      }
    },
    {
      "cell_type": "markdown",
      "source": [
        "# **What is a Series?**\n",
        "A Pandas Series is like a column in a table.\n",
        "\n",
        "It is a one-dimensional array holding data of any type.\n",
        "\n"
      ],
      "metadata": {
        "id": "NZPCYPoVePeg"
      }
    },
    {
      "cell_type": "markdown",
      "source": [
        "# Example\n",
        "Create a simple Pandas Series from a list:\n",
        "\n"
      ],
      "metadata": {
        "id": "3jfLaxIVeaGY"
      }
    },
    {
      "cell_type": "code",
      "source": [
        "import pandas as pd\n",
        "\n",
        "a = [1, 7, 2]\n",
        "\n",
        "myvar = pd.Series(a)\n",
        "\n",
        "print(myvar)"
      ],
      "metadata": {
        "id": "D0bles6MedWp"
      },
      "execution_count": null,
      "outputs": []
    },
    {
      "cell_type": "markdown",
      "source": [
        "# **Labels**\n",
        "If nothing else is specified, the values are labeled with their index number. First value has index 0, second value has index 1 etc.\n",
        "\n",
        "This label can be used to access a specified value.\n",
        "\n"
      ],
      "metadata": {
        "id": "psQvP6E4eh_Y"
      }
    },
    {
      "cell_type": "markdown",
      "source": [
        "# Example\n",
        "Return the first value of the Series:\n",
        "\n"
      ],
      "metadata": {
        "id": "MYNFW0p8el2Q"
      }
    },
    {
      "cell_type": "code",
      "source": [
        "print(myvar[0])"
      ],
      "metadata": {
        "id": "O8PencEveoTQ"
      },
      "execution_count": null,
      "outputs": []
    },
    {
      "cell_type": "markdown",
      "source": [
        "# **Create Labels**\n",
        "With the index argument, you can name your own labels.\n",
        "\n"
      ],
      "metadata": {
        "id": "Qopgh7XJerty"
      }
    },
    {
      "cell_type": "markdown",
      "source": [
        "# Example\n",
        "Create your own labels:\n",
        "\n"
      ],
      "metadata": {
        "id": "lVONY-xHeuta"
      }
    },
    {
      "cell_type": "code",
      "source": [
        "import pandas as pd\n",
        "\n",
        "a = [1, 7, 2]\n",
        "\n",
        "myvar = pd.Series(a, index = [\"x\", \"y\", \"z\"])\n",
        "\n",
        "print(myvar)"
      ],
      "metadata": {
        "id": "8AJQuUSHewHR"
      },
      "execution_count": null,
      "outputs": []
    },
    {
      "cell_type": "markdown",
      "source": [
        "Example\n",
        "Return the value of \"y\":\n",
        "\n"
      ],
      "metadata": {
        "id": "iJU3TiN4e0KZ"
      }
    },
    {
      "cell_type": "code",
      "source": [
        "print(myvar[\"y\"])"
      ],
      "metadata": {
        "id": "HTMWwXyPez1R"
      },
      "execution_count": null,
      "outputs": []
    },
    {
      "cell_type": "markdown",
      "source": [
        "# **Key/Value Objects as Series**\n",
        "You can also use a key/value object, like a dictionary, when creating a Series.\n",
        "\n"
      ],
      "metadata": {
        "id": "hCkYrISXfCKZ"
      }
    },
    {
      "cell_type": "markdown",
      "source": [
        "# Example\n",
        "Create a simple Pandas Series from a dictionary:\n",
        "\n"
      ],
      "metadata": {
        "id": "Y-hKtYI0fE9Q"
      }
    },
    {
      "cell_type": "code",
      "source": [
        "import pandas as pd\n",
        "\n",
        "calories = {\"day1\": 420, \"day2\": 380, \"day3\": 390}\n",
        "\n",
        "myvar = pd.Series(calories)\n",
        "\n",
        "print(myvar)"
      ],
      "metadata": {
        "id": "R6E1nboCfGtp"
      },
      "execution_count": null,
      "outputs": []
    },
    {
      "cell_type": "markdown",
      "source": [
        "  N.B: To select only some of the items in the dictionary, use the index argument and specify only the items you want to include in the Series."
      ],
      "metadata": {
        "id": "SCQVCbyFfLOY"
      }
    },
    {
      "cell_type": "markdown",
      "source": [
        "# Example\n",
        "Create a Series using only data from \"day1\" and \"day2\":\n",
        "\n"
      ],
      "metadata": {
        "id": "GSQKZ5kZfQRR"
      }
    },
    {
      "cell_type": "code",
      "source": [
        "import pandas as pd\n",
        "\n",
        "calories = {\"day1\": 420, \"day2\": 380, \"day3\": 390}\n",
        "\n",
        "myvar = pd.Series(calories, index = [\"day1\", \"day2\"])\n",
        "\n",
        "print(myvar)"
      ],
      "metadata": {
        "id": "9TO52H1wfUFJ"
      },
      "execution_count": null,
      "outputs": []
    },
    {
      "cell_type": "markdown",
      "source": [
        "# **DataFrames**\n",
        "Data sets in Pandas are usually multi-dimensional tables, called DataFrames.\n",
        "\n",
        "Series is like a column, a DataFrame is the whole table.\n",
        "\n"
      ],
      "metadata": {
        "id": "xmfR9ih9fVbR"
      }
    },
    {
      "cell_type": "markdown",
      "source": [
        "# Example\n",
        "Create a DataFrame from two Series:\n",
        "\n"
      ],
      "metadata": {
        "id": "ojxOXJJ9fbMx"
      }
    },
    {
      "cell_type": "code",
      "source": [
        "import pandas as pd\n",
        "\n",
        "data = {\n",
        "  \"calories\": [420, 380, 390],\n",
        "  \"duration\": [50, 40, 45]\n",
        "}\n",
        "\n",
        "myvar = pd.DataFrame(data)\n",
        "\n",
        "print(myvar)"
      ],
      "metadata": {
        "id": "Tpbl_sp0fVVh"
      },
      "execution_count": null,
      "outputs": []
    },
    {
      "cell_type": "markdown",
      "source": [
        "# **What is a DataFrame?**\n",
        "A Pandas DataFrame is a 2 dimensional data structure, like a 2 dimensional array, or a table with rows and columns.\n",
        "\n"
      ],
      "metadata": {
        "id": "qVNT_iUZfr_y"
      }
    },
    {
      "cell_type": "markdown",
      "source": [
        "# Example\n",
        "Create a simple Pandas DataFrame:\n",
        "\n"
      ],
      "metadata": {
        "id": "SCZeg3Ixfv64"
      }
    },
    {
      "cell_type": "code",
      "source": [
        "import pandas as pd\n",
        "\n",
        "data = {\n",
        "  \"calories\": [420, 380, 390],\n",
        "  \"duration\": [50, 40, 45]\n",
        "}\n",
        "\n",
        "#load data into a DataFrame object:\n",
        "df = pd.DataFrame(data)\n",
        "\n",
        "print(df)"
      ],
      "metadata": {
        "id": "Hj4aKgAxfxuo"
      },
      "execution_count": null,
      "outputs": []
    },
    {
      "cell_type": "markdown",
      "source": [
        "# **Locate Row**\n",
        "As you can see from the result above, the DataFrame is like a table with rows and columns.\n",
        "\n",
        "Pandas use the loc attribute to return one or more specified row(s)\n",
        "\n"
      ],
      "metadata": {
        "id": "eq4O4CBNf1bR"
      }
    },
    {
      "cell_type": "markdown",
      "source": [
        "# Example\n",
        "Return row 0:\n",
        "\n"
      ],
      "metadata": {
        "id": "zRaTJUQ1f41q"
      }
    },
    {
      "cell_type": "code",
      "source": [
        "#refer to the row index:\n",
        "print(df.loc[0])"
      ],
      "metadata": {
        "id": "QUVmFbIwf66R"
      },
      "execution_count": null,
      "outputs": []
    },
    {
      "cell_type": "markdown",
      "source": [
        "# Example\n",
        "Return row 0 and 1:\n",
        "\n"
      ],
      "metadata": {
        "id": "BnFzmT2DgA_w"
      }
    },
    {
      "cell_type": "code",
      "source": [
        "#use a list of indexes:\n",
        "print(df.loc[[0, 1]])"
      ],
      "metadata": {
        "id": "66OnN0rlgDRR"
      },
      "execution_count": null,
      "outputs": []
    },
    {
      "cell_type": "markdown",
      "source": [
        "# **Named Indexes**\n",
        "With the index argument, you can name your own indexes.\n",
        "\n"
      ],
      "metadata": {
        "id": "UberDWkjgEJY"
      }
    },
    {
      "cell_type": "markdown",
      "source": [
        "# Example\n",
        "Add a list of names to give each row a name:\n",
        "\n"
      ],
      "metadata": {
        "id": "bii9894lgIOB"
      }
    },
    {
      "cell_type": "code",
      "source": [
        "\n",
        "import pandas as pd\n",
        "\n",
        "data = {\n",
        "  \"calories\": [420, 380, 390],\n",
        "  \"duration\": [50, 40, 45]\n",
        "}\n",
        "\n",
        "df = pd.DataFrame(data, index = [\"day1\", \"day2\", \"day3\"])\n",
        "\n",
        "print(df)"
      ],
      "metadata": {
        "id": "Gz2ZLdQ7gJuz"
      },
      "execution_count": null,
      "outputs": []
    },
    {
      "cell_type": "markdown",
      "source": [
        "# **Locate Named Indexes**\n",
        "Use the named index in the loc attribute to return the specified row(s).\n",
        "\n"
      ],
      "metadata": {
        "id": "7DOT4V1mgRUU"
      }
    },
    {
      "cell_type": "markdown",
      "source": [
        "# Example\n",
        "Return \"day2\":\n",
        "\n"
      ],
      "metadata": {
        "id": "ApxBDp7VgTpY"
      }
    },
    {
      "cell_type": "code",
      "source": [
        "#refer to the named index:\n",
        "print(df.loc[\"day2\"])"
      ],
      "metadata": {
        "id": "MxnjnspLgVVB"
      },
      "execution_count": null,
      "outputs": []
    },
    {
      "cell_type": "markdown",
      "source": [
        "# **Load Files Into a DataFrame**\n",
        "If your data sets are stored in a file, Pandas can load them into a DataFrame.\n",
        "\n"
      ],
      "metadata": {
        "id": "4Vuj6lgigY-Q"
      }
    },
    {
      "cell_type": "markdown",
      "source": [
        "# Example\n",
        "Load a comma separated file (CSV file) into a DataFrame:\n",
        "\n",
        "\n"
      ],
      "metadata": {
        "id": "0OxyIURngcKo"
      }
    },
    {
      "cell_type": "code",
      "source": [
        "import pandas as pd\n",
        "\n",
        "df = pd.read_csv('data.csv')\n",
        "\n",
        "print(df)"
      ],
      "metadata": {
        "id": "jkPGXwXfgdqr"
      },
      "execution_count": null,
      "outputs": []
    },
    {
      "cell_type": "markdown",
      "source": [
        "# **Pandas Read CSV**"
      ],
      "metadata": {
        "id": "Lk9wPZVbgewQ"
      }
    },
    {
      "cell_type": "markdown",
      "source": [
        "# **Read CSV Files**\n",
        "A simple way to store big data sets is to use CSV files (comma separated files).\n",
        "\n",
        "CSV files contains plain text and is a well know format that can be read by everyone including Pandas.\n",
        "\n",
        "In our examples we will be using a CSV file called 'data.csv'.\n",
        "\n",
        "Download data.csv. or Open data.csv\n",
        "\n"
      ],
      "metadata": {
        "id": "jAai_44pgoOp"
      }
    },
    {
      "cell_type": "markdown",
      "source": [
        "# Example\n",
        "Load the CSV into a DataFrame:\n",
        "\n"
      ],
      "metadata": {
        "id": "hQqRSJpxgsq5"
      }
    },
    {
      "cell_type": "code",
      "source": [
        "import pandas as pd\n",
        "\n",
        "df = pd.read_csv('data.csv')\n",
        "\n",
        "print(df.to_string())"
      ],
      "metadata": {
        "id": "jPXCSuhGgfIa"
      },
      "execution_count": null,
      "outputs": []
    },
    {
      "cell_type": "markdown",
      "source": [
        "  N.B : use to_string() to print the entire DataFrame."
      ],
      "metadata": {
        "id": "hw-A3c2qg0J4"
      }
    },
    {
      "cell_type": "markdown",
      "source": [
        "# Example\n",
        "Print the DataFrame without the to_string() method:\n",
        "\n"
      ],
      "metadata": {
        "id": "6kCSOmEGg4Wa"
      }
    },
    {
      "cell_type": "code",
      "source": [
        "import pandas as pd\n",
        "\n",
        "df = pd.read_csv('data.csv')\n",
        "\n",
        "print(df)"
      ],
      "metadata": {
        "id": "NmJlMw6Wg37I"
      },
      "execution_count": null,
      "outputs": []
    },
    {
      "cell_type": "markdown",
      "source": [
        "# **max_rows**\n",
        "The number of rows returned is defined in Pandas option settings.\n",
        "\n",
        "You can check your system's maximum rows with the pd.options.display.max_rows statement.\n",
        "\n"
      ],
      "metadata": {
        "id": "SKrfXsvdg-si"
      }
    },
    {
      "cell_type": "markdown",
      "source": [
        "# Example\n",
        "Check the number of maximum returned rows:\n",
        "\n"
      ],
      "metadata": {
        "id": "0qA_RE8ShFso"
      }
    },
    {
      "cell_type": "code",
      "source": [
        "import pandas as pd\n",
        "\n",
        "print(pd.options.display.max_rows)"
      ],
      "metadata": {
        "id": "D1HCmIUGhHXB"
      },
      "execution_count": null,
      "outputs": []
    },
    {
      "cell_type": "markdown",
      "source": [
        "N.B : In my system the number is 60, which means that if the DataFrame contains more than 60 rows, the print(df) statement will return only the headers and the first and last 5 rows."
      ],
      "metadata": {
        "id": "BhP6o47DhJ2w"
      }
    },
    {
      "cell_type": "markdown",
      "source": [
        "# Example\n",
        "Increase the maximum number of rows to display the entire DataFrame:\n",
        "\n"
      ],
      "metadata": {
        "id": "gifxB0TbhNZh"
      }
    },
    {
      "cell_type": "code",
      "source": [
        "import pandas as pd\n",
        "\n",
        "pd.options.display.max_rows = 9999\n",
        "\n",
        "df = pd.read_csv('data.csv')\n",
        "\n",
        "print(df)"
      ],
      "metadata": {
        "id": "84RrSpvdhNGg"
      },
      "execution_count": null,
      "outputs": []
    },
    {
      "cell_type": "markdown",
      "source": [
        "# **Pandas Read JSON**"
      ],
      "metadata": {
        "id": "_DQZUgFchZHJ"
      }
    },
    {
      "cell_type": "markdown",
      "source": [
        "Big data sets are often stored, or extracted as JSON.\n",
        "\n",
        "JSON is plain text, but has the format of an object, and is well known in the world of programming, including Pandas.\n",
        "\n",
        "In our examples we will be using a JSON file called 'data.json'.\n",
        "\n",
        "Open data.json.\n",
        "\n"
      ],
      "metadata": {
        "id": "S4F1PvOZhamq"
      }
    },
    {
      "cell_type": "markdown",
      "source": [
        "# Example\n",
        "Load the JSON file into a DataFrame:\n",
        "\n"
      ],
      "metadata": {
        "id": "NtTmyZz6hhxR"
      }
    },
    {
      "cell_type": "code",
      "source": [
        "import pandas as pd\n",
        "\n",
        "df = pd.read_json('data.json')\n",
        "\n",
        "print(df.to_string())"
      ],
      "metadata": {
        "id": "xZmG5wH1hk_X"
      },
      "execution_count": null,
      "outputs": []
    },
    {
      "cell_type": "markdown",
      "source": [
        "# **Dictionary as JSON**\n",
        "**JSON = Python Dictionary**\n",
        "\n",
        "JSON objects have the same format as Python dictionaries.\n",
        "\n",
        "If your JSON code is not in a file, but in a Python Dictionary, you can load it into a DataFrame directly:\n",
        "\n"
      ],
      "metadata": {
        "id": "bCo8B84Bhoqp"
      }
    },
    {
      "cell_type": "markdown",
      "source": [
        "# Example\n",
        "Load a Python Dictionary into a DataFrame:"
      ],
      "metadata": {
        "id": "OqBdIV8ohu9Y"
      }
    },
    {
      "cell_type": "code",
      "source": [
        "import pandas as pd\n",
        "\n",
        "data = {\n",
        "  \"Duration\":{\n",
        "    \"0\":60,\n",
        "    \"1\":60,\n",
        "    \"2\":60,\n",
        "    \"3\":45,\n",
        "    \"4\":45,\n",
        "    \"5\":60\n",
        "  },\n",
        "  \"Pulse\":{\n",
        "    \"0\":110,\n",
        "    \"1\":117,\n",
        "    \"2\":103,\n",
        "    \"3\":109,\n",
        "    \"4\":117,\n",
        "    \"5\":102\n",
        "  },\n",
        "  \"Maxpulse\":{\n",
        "    \"0\":130,\n",
        "    \"1\":145,\n",
        "    \"2\":135,\n",
        "    \"3\":175,\n",
        "    \"4\":148,\n",
        "    \"5\":127\n",
        "  },\n",
        "  \"Calories\":{\n",
        "    \"0\":409,\n",
        "    \"1\":479,\n",
        "    \"2\":340,\n",
        "    \"3\":282,\n",
        "    \"4\":406,\n",
        "    \"5\":300\n",
        "  }\n",
        "}\n",
        "\n",
        "df = pd.DataFrame(data)\n",
        "\n",
        "print(df)"
      ],
      "metadata": {
        "id": "2It0Du2WhvmK"
      },
      "execution_count": null,
      "outputs": []
    },
    {
      "cell_type": "markdown",
      "source": [
        "# **Pandas - Analyzing DataFrames**"
      ],
      "metadata": {
        "id": "7XYRf_rFiCHJ"
      }
    },
    {
      "cell_type": "markdown",
      "source": [
        "# **Viewing the Data**\n",
        "One of the most used method for getting a quick overview of the DataFrame, is the head() method.\n",
        "\n",
        "The head() method returns the headers and a specified number of rows, starting from the top.\n",
        "\n"
      ],
      "metadata": {
        "id": "wJKkHuojiFKb"
      }
    },
    {
      "cell_type": "markdown",
      "source": [
        "# Example\n",
        "Get a quick overview by printing the first 10 rows of the DataFrame:"
      ],
      "metadata": {
        "id": "TKNJ0fygiL3A"
      }
    },
    {
      "cell_type": "code",
      "source": [
        "import pandas as pd\n",
        "\n",
        "df = pd.read_csv('data.csv')\n",
        "\n",
        "print(df.head(10))"
      ],
      "metadata": {
        "id": "IO_vcOIiiB0Z"
      },
      "execution_count": null,
      "outputs": []
    },
    {
      "cell_type": "markdown",
      "source": [
        "In our examples we will be using a CSV file called 'data.csv'.\n",
        "\n",
        "Download data.csv, or open data.csv in your browser.\n",
        "\n",
        "N.B : if the number of rows is not specified, the head() method will return the top 5 rows."
      ],
      "metadata": {
        "id": "sQuC5SpViR-o"
      }
    },
    {
      "cell_type": "markdown",
      "source": [
        "# Example\n",
        "Print the first 5 rows of the DataFrame:\n",
        "\n"
      ],
      "metadata": {
        "id": "FoBbFiy1iZYD"
      }
    },
    {
      "cell_type": "code",
      "source": [
        "import pandas as pd\n",
        "\n",
        "df = pd.read_csv('data.csv')\n",
        "\n",
        "print(df.head())"
      ],
      "metadata": {
        "id": "h5u-d1f7ibXS"
      },
      "execution_count": null,
      "outputs": []
    },
    {
      "cell_type": "markdown",
      "source": [
        "There is also a tail() method for viewing the last rows of the DataFrame.\n",
        "\n",
        "The tail() method returns the headers and a specified number of rows, starting from the bottom."
      ],
      "metadata": {
        "id": "h-PtWpImidqq"
      }
    },
    {
      "cell_type": "markdown",
      "source": [
        "# Example\n",
        "Print the last 5 rows of the DataFrame:\n",
        "\n"
      ],
      "metadata": {
        "id": "RFBomrAaih3I"
      }
    },
    {
      "cell_type": "code",
      "source": [
        "print(df.tail())"
      ],
      "metadata": {
        "id": "ISuZpkXkijf4"
      },
      "execution_count": null,
      "outputs": []
    },
    {
      "cell_type": "markdown",
      "source": [
        "# **Info About the Data**\n",
        "The DataFrames object has a method called info(), that gives you more information about the data set.\n",
        "\n"
      ],
      "metadata": {
        "id": "Q2q1rIGsinBx"
      }
    },
    {
      "cell_type": "markdown",
      "source": [
        "\n",
        "# Example\n",
        "Print information about the data:\n",
        "\n"
      ],
      "metadata": {
        "id": "NSdsDQdQipTI"
      }
    },
    {
      "cell_type": "code",
      "source": [
        "print(df.info())"
      ],
      "metadata": {
        "id": "GpycH5Ggitqo"
      },
      "execution_count": null,
      "outputs": []
    },
    {
      "cell_type": "markdown",
      "source": [
        "Null Values\n",
        "The info() method also tells us how many Non-Null values there are present in each column, and in our data set it seems like there are 164 of 169 Non-Null values in the \"Calories\" column."
      ],
      "metadata": {
        "id": "xJMWUorWi1Nx"
      }
    },
    {
      "cell_type": "markdown",
      "source": [
        "# **Pandas - Cleaning Data**"
      ],
      "metadata": {
        "id": "g6b1xor-i-uB"
      }
    },
    {
      "cell_type": "markdown",
      "source": [
        "# **Data Cleaning**\n",
        "Data cleaning means fixing bad data in your data set.\n",
        "\n",
        "Bad data could be:\n",
        "\n",
        "\n",
        "\n",
        "*   Empty cells\n",
        "*   Data in wrong format\n",
        "*   Wrong data\n",
        "*   Duplicates\n",
        "\n",
        "\n",
        "In this tutorial you will learn how to deal with all of them."
      ],
      "metadata": {
        "id": "5OYhhCZqjAdJ"
      }
    },
    {
      "cell_type": "markdown",
      "source": [
        "# **Pandas - Cleaning Empty Cells**"
      ],
      "metadata": {
        "id": "ndkGdO_Rjqcg"
      }
    },
    {
      "cell_type": "markdown",
      "source": [
        "# **Empty Cells**\n",
        "Empty cells can potentially give you a wrong result when you analyze data.\n",
        "\n",
        "# **Remove Rows**\n",
        "One way to deal with empty cells is to remove rows that contain empty cells.\n",
        "\n",
        "This is usually OK, since data sets can be very big, and removing a few rows will not have a big impact on the result.\n",
        "\n"
      ],
      "metadata": {
        "id": "9TK2T--ZjrvM"
      }
    },
    {
      "cell_type": "markdown",
      "source": [
        "# Example\n",
        "Return a new Data Frame with no empty cells:"
      ],
      "metadata": {
        "id": "6AJ4YBOjjyHQ"
      }
    },
    {
      "cell_type": "code",
      "source": [
        "import pandas as pd\n",
        "\n",
        "df = pd.read_csv('data.csv')\n",
        "\n",
        "new_df = df.dropna()\n",
        "\n",
        "print(new_df.to_string())"
      ],
      "metadata": {
        "id": "7m1jqxmrjzXI"
      },
      "execution_count": null,
      "outputs": []
    },
    {
      "cell_type": "markdown",
      "source": [
        "N.B: By default, the dropna() method returns a new DataFrame, and will not change the original. If you want to change the original DataFrame, use the inplace = True argument:"
      ],
      "metadata": {
        "id": "G6O3zeYuj6sB"
      }
    },
    {
      "cell_type": "markdown",
      "source": [
        "# Example\n",
        "Remove all rows with NULL values:\n",
        "\n"
      ],
      "metadata": {
        "id": "EqbFzgLzj9pA"
      }
    },
    {
      "cell_type": "code",
      "source": [
        "import pandas as pd\n",
        "\n",
        "df = pd.read_csv('data.csv')\n",
        "\n",
        "df.dropna(inplace = True)\n",
        "\n",
        "print(df.to_string())"
      ],
      "metadata": {
        "id": "IZo5jAxTkGrI"
      },
      "execution_count": null,
      "outputs": []
    },
    {
      "cell_type": "markdown",
      "source": [
        "N.B : Now, the dropna(inplace = True) will NOT return a new DataFrame, but it will remove all rows containing NULL values from the original DataFrame."
      ],
      "metadata": {
        "id": "VfU9mfNNkNiY"
      }
    },
    {
      "cell_type": "markdown",
      "source": [
        "# **Replace Empty Values**\n",
        "Another way of dealing with empty cells is to insert a new value instead.\n",
        "\n",
        "This way you do not have to delete entire rows just because of some empty cells.\n",
        "\n",
        "The fillna() method allows us to replace empty cells with a value:\n",
        "\n"
      ],
      "metadata": {
        "id": "Eu4FWiAzkQA4"
      }
    },
    {
      "cell_type": "markdown",
      "source": [
        "# Example\n",
        "Replace NULL values with the number 130:\n",
        "\n"
      ],
      "metadata": {
        "id": "E-bNCVqckU0Q"
      }
    },
    {
      "cell_type": "code",
      "source": [
        "import pandas as pd\n",
        "\n",
        "df = pd.read_csv('data.csv')\n",
        "\n",
        "df.fillna(130, inplace = True)"
      ],
      "metadata": {
        "id": "C_amY8DwkWwQ"
      },
      "execution_count": null,
      "outputs": []
    },
    {
      "cell_type": "markdown",
      "source": [
        "# **Replace Only For Specified Columns**\n",
        "The example above replaces all empty cells in the whole Data Frame.\n",
        "\n",
        "To only replace empty values for one column, specify the column name for the DataFrame:\n",
        "\n",
        "\n"
      ],
      "metadata": {
        "id": "ocBaIvKGkbUY"
      }
    },
    {
      "cell_type": "markdown",
      "source": [
        "# Example\n",
        "Replace NULL values in the \"Calories\" columns with the number 130:\n"
      ],
      "metadata": {
        "id": "XwPSeLFMkgeI"
      }
    },
    {
      "cell_type": "code",
      "source": [
        "import pandas as pd\n",
        "\n",
        "df = pd.read_csv('data.csv')\n",
        "\n",
        "df[\"Calories\"].fillna(130, inplace = True)"
      ],
      "metadata": {
        "id": "o_YtM0L8kenw"
      },
      "execution_count": null,
      "outputs": []
    },
    {
      "cell_type": "markdown",
      "source": [
        "# **Replace Using Mean, Median, or Mode**\n",
        "A common way to replace empty cells, is to calculate the mean, median or mode value of the column.\n",
        "\n",
        "Pandas uses the mean() median() and mode() methods to calculate the respective values for a specified column:\n",
        "\n"
      ],
      "metadata": {
        "id": "Hs_IaMRZknAQ"
      }
    },
    {
      "cell_type": "markdown",
      "source": [
        "\n",
        "# Example\n",
        "Calculate the MEAN, and replace any empty values with it:\n",
        "\n"
      ],
      "metadata": {
        "id": "QXd34IvAkqyo"
      }
    },
    {
      "cell_type": "code",
      "source": [
        "import pandas as pd\n",
        "\n",
        "df = pd.read_csv('data.csv')\n",
        "\n",
        "x = df[\"Calories\"].mean()\n",
        "\n",
        "df[\"Calories\"].fillna(x, inplace = True)"
      ],
      "metadata": {
        "id": "ZsSEwV7LkvZJ"
      },
      "execution_count": null,
      "outputs": []
    },
    {
      "cell_type": "markdown",
      "source": [
        "**Mean = the average value (the sum of all values divided by number of values).**"
      ],
      "metadata": {
        "id": "mLxsvdcEkzqE"
      }
    },
    {
      "cell_type": "markdown",
      "source": [
        "# Example\n",
        "Calculate the MEDIAN, and replace any empty values with it:\n",
        "\n",
        "\n"
      ],
      "metadata": {
        "id": "bmF-x5Eqk4sB"
      }
    },
    {
      "cell_type": "code",
      "source": [
        "import pandas as pd\n",
        "\n",
        "df = pd.read_csv('data.csv')\n",
        "\n",
        "x = df[\"Calories\"].median()\n",
        "\n",
        "df[\"Calories\"].fillna(x, inplace = True)"
      ],
      "metadata": {
        "id": "rbVdQgLwk73J"
      },
      "execution_count": null,
      "outputs": []
    },
    {
      "cell_type": "markdown",
      "source": [
        "**Median = the value in the middle, after you have sorted all values ascending.**"
      ],
      "metadata": {
        "id": "tJC1IsZNk6py"
      }
    },
    {
      "cell_type": "markdown",
      "source": [
        "# Example\n",
        "Calculate the MODE, and replace any empty values with it:\n",
        "\n"
      ],
      "metadata": {
        "id": "izTnTdXOlFqo"
      }
    },
    {
      "cell_type": "code",
      "source": [
        "import pandas as pd\n",
        "\n",
        "df = pd.read_csv('data.csv')\n",
        "\n",
        "x = df[\"Calories\"].mode()[0]\n",
        "\n",
        "df[\"Calories\"].fillna(x, inplace = True)\n"
      ],
      "metadata": {
        "id": "lhK632-7lITQ"
      },
      "execution_count": null,
      "outputs": []
    },
    {
      "cell_type": "markdown",
      "source": [
        "**Mode = the value that appears most frequently.**"
      ],
      "metadata": {
        "id": "FJweDb6ElK54"
      }
    },
    {
      "cell_type": "markdown",
      "source": [
        "# **Pandas - Cleaning Data of Wrong Format**"
      ],
      "metadata": {
        "id": "fFhCvVgMlVPw"
      }
    },
    {
      "cell_type": "markdown",
      "source": [
        "# **Data of Wrong Format**\n",
        "Cells with data of wrong format can make it difficult, or even impossible, to analyze data.\n",
        "\n",
        "To fix it, you have two options: remove the rows, or convert all cells in the columns into the same format."
      ],
      "metadata": {
        "id": "x9yqQvi8lYvo"
      }
    },
    {
      "cell_type": "markdown",
      "source": [
        "# Example\n",
        "Convert to date:\n",
        "\n"
      ],
      "metadata": {
        "id": "X2OFuxdKleEI"
      }
    },
    {
      "cell_type": "code",
      "source": [
        "import pandas as pd\n",
        "\n",
        "df = pd.read_csv('data.csv')\n",
        "\n",
        "df['Date'] = pd.to_datetime(df['Date'])\n",
        "\n",
        "print(df.to_string())"
      ],
      "metadata": {
        "id": "wuaujeI1lgwI"
      },
      "execution_count": null,
      "outputs": []
    },
    {
      "cell_type": "markdown",
      "source": [
        "# **Removing Rows**\n",
        "The result from the converting in the example above gave us a NaT value, which can be handled as a NULL value, and we can remove the row by using the dropna() method.\n",
        "\n"
      ],
      "metadata": {
        "id": "97lsDhHtlj5h"
      }
    },
    {
      "cell_type": "markdown",
      "source": [
        "# Example\n",
        "Remove rows with a NULL value in the \"Date\" column:\n"
      ],
      "metadata": {
        "id": "-EMr59P7loMJ"
      }
    },
    {
      "cell_type": "code",
      "source": [
        "df.dropna(subset=['Date'], inplace = True)"
      ],
      "metadata": {
        "id": "2rRZzSOJlqyk"
      },
      "execution_count": null,
      "outputs": []
    },
    {
      "cell_type": "markdown",
      "source": [
        "# **Pandas - Fixing Wrong Data**"
      ],
      "metadata": {
        "id": "retoRL5HmB8o"
      }
    },
    {
      "cell_type": "markdown",
      "source": [
        "# **Wrong Data**\n",
        "\"Wrong data\" does not have to be \"empty cells\" or \"wrong format\", it can just be wrong, like if someone registered \"199\" instead of \"1.99\".\n",
        "\n",
        "Sometimes you can spot wrong data by looking at the data set, because you have an expectation of what it should be."
      ],
      "metadata": {
        "id": "78qJLG4rmGqE"
      }
    },
    {
      "cell_type": "markdown",
      "source": [
        "# **Replacing Values**\n",
        "One way to fix wrong values is to replace them with something else.\n",
        "\n",
        "In our example, it is most likely a typo, and the value should be \"45\" instead of \"450\", and we could just insert \"45\" in row 7:\n",
        "\n"
      ],
      "metadata": {
        "id": "cWg3yDMLmIn0"
      }
    },
    {
      "cell_type": "markdown",
      "source": [
        "# Example\n",
        "Set \"Duration\" = 45 in row 7:\n",
        "\n"
      ],
      "metadata": {
        "id": "rSgGiw-smPXg"
      }
    },
    {
      "cell_type": "code",
      "source": [
        "df.loc[7, 'Duration'] = 45"
      ],
      "metadata": {
        "id": "4D5mcIPfmRVq"
      },
      "execution_count": null,
      "outputs": []
    },
    {
      "cell_type": "markdown",
      "source": [
        "For small data sets you might be able to replace the wrong data one by one, but not for big data sets.\n",
        "\n",
        "To replace wrong data for larger data sets you can create some rules, e.g. set some boundaries for legal values, and replace any values that are outside of the boundaries."
      ],
      "metadata": {
        "id": "Ms8Ls-yzmVlJ"
      }
    },
    {
      "cell_type": "markdown",
      "source": [
        "# Example\n",
        "Loop through all values in the \"Duration\" column.\n",
        "\n",
        "If the value is higher than 120, set it to 120:\n",
        "\n"
      ],
      "metadata": {
        "id": "Jsp9K6mvmZE4"
      }
    },
    {
      "cell_type": "code",
      "source": [
        "for x in df.index:\n",
        "  if df.loc[x, \"Duration\"] > 120:\n",
        "    df.loc[x, \"Duration\"] = 120"
      ],
      "metadata": {
        "id": "b8M1cF8bmbCY"
      },
      "execution_count": null,
      "outputs": []
    },
    {
      "cell_type": "markdown",
      "source": [
        "# **Removing Rows**\n",
        "Another way of handling wrong data is to remove the rows that contains wrong data.\n",
        "\n",
        "This way you do not have to find out what to replace them with, and there is a good chance you do not need them to do your analyses.\n",
        "\n"
      ],
      "metadata": {
        "id": "AXf9m8NPmezp"
      }
    },
    {
      "cell_type": "markdown",
      "source": [
        "# Example\n",
        "Delete rows where \"Duration\" is higher than 120:\n",
        "\n"
      ],
      "metadata": {
        "id": "ti8MRLZpmhUB"
      }
    },
    {
      "cell_type": "code",
      "source": [
        "for x in df.index:\n",
        "  if df.loc[x, \"Duration\"] > 120:\n",
        "    df.drop(x, inplace = True)"
      ],
      "metadata": {
        "id": "kEk_b6iRmlOq"
      },
      "execution_count": null,
      "outputs": []
    },
    {
      "cell_type": "markdown",
      "source": [
        "# **Pandas - Removing Duplicates**"
      ],
      "metadata": {
        "id": "ILYCu_Epmpm3"
      }
    },
    {
      "cell_type": "markdown",
      "source": [
        "To discover duplicates, we can use the duplicated() method.\n",
        "\n",
        "The duplicated() method returns a Boolean values for each row:\n",
        "\n"
      ],
      "metadata": {
        "id": "7WDD8spVmvgR"
      }
    },
    {
      "cell_type": "markdown",
      "source": [
        "# Example\n",
        "Returns True for every row that is a duplicate, otherwise False:\n",
        "\n"
      ],
      "metadata": {
        "id": "6fcmyfeVm0DS"
      }
    },
    {
      "cell_type": "code",
      "source": [
        "print(df.duplicated())"
      ],
      "metadata": {
        "id": "hTtkvgkFm1Xg"
      },
      "execution_count": null,
      "outputs": []
    },
    {
      "cell_type": "markdown",
      "source": [
        "# **Pandas - Data Correlations**"
      ],
      "metadata": {
        "id": "pp6Wpfqim8pr"
      }
    },
    {
      "cell_type": "markdown",
      "source": [
        "# **Finding Relationships**\n",
        "A great aspect of the Pandas module is the corr() method.\n",
        "\n",
        "The corr() method calculates the relationship between each column in your data set.\n",
        "\n",
        "The examples in this page uses a CSV file called: 'data.csv'.\n",
        "\n",
        "Download data.csv. or Open data.csv\n",
        "\n"
      ],
      "metadata": {
        "id": "BwBi18A2m_ya"
      }
    },
    {
      "cell_type": "markdown",
      "source": [
        "# Example\n",
        "Show the relationship between the columns:\n",
        "\n"
      ],
      "metadata": {
        "id": "0SSzYDW7nEGC"
      }
    },
    {
      "cell_type": "code",
      "source": [
        "df.corr()"
      ],
      "metadata": {
        "id": "wG0PbvWUnFRY"
      },
      "execution_count": null,
      "outputs": []
    },
    {
      "cell_type": "markdown",
      "source": [
        "N.B : The corr() method ignores \"not numeric\" columns."
      ],
      "metadata": {
        "id": "xkyWZIqdnJog"
      }
    },
    {
      "cell_type": "markdown",
      "source": [
        "# **Pandas - Plotting**"
      ],
      "metadata": {
        "id": "5s203Ub4nVev"
      }
    },
    {
      "cell_type": "markdown",
      "source": [
        "# **Plotting**\n",
        "Pandas uses the plot() method to create diagrams.\n",
        "\n",
        "We can use Pyplot, a submodule of the Matplotlib library to visualize the diagram on the screen.\n",
        "\n",
        "\n"
      ],
      "metadata": {
        "id": "3JJZQ0T3nZLX"
      }
    },
    {
      "cell_type": "markdown",
      "source": [
        "# Example\n",
        "Import pyplot from Matplotlib and visualize our DataFrame:"
      ],
      "metadata": {
        "id": "xyEfPuuLneUw"
      }
    },
    {
      "cell_type": "code",
      "source": [
        "import pandas as pd\n",
        "import matplotlib.pyplot as plt\n",
        "\n",
        "df = pd.read_csv('data.csv')\n",
        "\n",
        "df.plot()\n",
        "\n",
        "plt.show()"
      ],
      "metadata": {
        "id": "GF9WXxR6nhgI"
      },
      "execution_count": null,
      "outputs": []
    },
    {
      "cell_type": "markdown",
      "source": [
        "# **Scatter Plot**\n",
        "Specify that you want a scatter plot with the kind argument:\n",
        "\n",
        "kind = 'scatter'\n",
        "\n",
        "A scatter plot needs an x- and a y-axis.\n",
        "\n",
        "In the example below we will use \"Duration\" for the x-axis and \"Calories\" for the y-axis.\n",
        "\n",
        "Include the x and y arguments like this:\n",
        "\n",
        "x = 'Duration', y = 'Calories'\n",
        "\n"
      ],
      "metadata": {
        "id": "Y-Vo0fljnk84"
      }
    },
    {
      "cell_type": "markdown",
      "source": [
        "# Example\n"
      ],
      "metadata": {
        "id": "tMrZupVgnpC_"
      }
    },
    {
      "cell_type": "code",
      "source": [
        "import pandas as pd\n",
        "import matplotlib.pyplot as plt\n",
        "\n",
        "df = pd.read_csv('data.csv')\n",
        "\n",
        "df.plot(kind = 'scatter', x = 'Duration', y = 'Calories')\n",
        "\n",
        "plt.show()"
      ],
      "metadata": {
        "id": "8rGIVlp-nq_h"
      },
      "execution_count": null,
      "outputs": []
    },
    {
      "cell_type": "markdown",
      "source": [
        "# Example\n",
        "A scatterplot where there are no relationship between the columns:\n",
        "\n"
      ],
      "metadata": {
        "id": "4KDVdpl3nvoY"
      }
    },
    {
      "cell_type": "code",
      "source": [
        "import pandas as pd\n",
        "import matplotlib.pyplot as plt\n",
        "\n",
        "df = pd.read_csv('data.csv')\n",
        "\n",
        "df.plot(kind = 'scatter', x = 'Duration', y = 'Maxpulse')\n",
        "\n",
        "plt.show()"
      ],
      "metadata": {
        "id": "gy0k4RD5nxWJ"
      },
      "execution_count": null,
      "outputs": []
    },
    {
      "cell_type": "markdown",
      "source": [
        "# **Histogram**\n",
        "Use the kind argument to specify that you want a histogram:\n",
        "\n",
        "kind = 'hist'\n",
        "\n",
        "A histogram needs only one column.\n",
        "\n",
        "A histogram shows us the frequency of each interval, e.g. how many workouts lasted between 50 and 60 minutes?\n",
        "\n",
        "In the example below we will use the \"Duration\" column to create the histogram:\n",
        "\n"
      ],
      "metadata": {
        "id": "vceQiKkin0h4"
      }
    },
    {
      "cell_type": "markdown",
      "source": [
        "# Example\n"
      ],
      "metadata": {
        "id": "C5Ld7YzHn3sh"
      }
    },
    {
      "cell_type": "code",
      "source": [
        "df[\"Duration\"].plot(kind = 'hist')"
      ],
      "metadata": {
        "id": "yrIGB_Idn5JY"
      },
      "execution_count": null,
      "outputs": []
    },
    {
      "cell_type": "markdown",
      "source": [
        "N.B : The histogram tells us that there were over 100 workouts that lasted between 50 and 60 minutes."
      ],
      "metadata": {
        "id": "amkvEudmn9L4"
      }
    },
    {
      "cell_type": "markdown",
      "source": [
        "# *** THE END ***\n",
        "\n",
        "---\n",
        "\n",
        "\n",
        "\n",
        "---\n",
        "\n",
        "\n",
        "\n",
        "---\n",
        "\n"
      ],
      "metadata": {
        "id": "fXGDhutFoFZg"
      }
    }
  ]
}